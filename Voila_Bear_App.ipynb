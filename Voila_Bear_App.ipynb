{
 "cells": [
  {
   "cell_type": "code",
   "execution_count": null,
   "metadata": {},
   "outputs": [],
   "source": [
    "from fastai.vision.all import *\n",
    "from fastai.vision.widgets import *"
   ]
  },
  {
   "cell_type": "code",
   "execution_count": 18,
   "metadata": {
    "id": "m0wWMCaK8bR3"
   },
   "outputs": [],
   "source": [
    "path = Path()\n",
    "learn_inf = load_learner(path/'export.pkl', cpu=True)\n",
    "btn_upload = widgets.FileUpload()\n",
    "btn_run = widgets.Button(description='Classify')\n",
    "out_pl = widgets.Output()\n",
    "lbl_pred = widgets.Label()"
   ]
  },
  {
   "cell_type": "code",
   "execution_count": 19,
   "metadata": {
    "id": "pHlt6KVW6alJ"
   },
   "outputs": [],
   "source": [
    "def on_click_classify(change):\n",
    "    img = PILImage.create(btn_upload.data[-1])\n",
    "    out_pl.clear_output()\n",
    "    with out_pl: display(img.to_thumb(128,128))\n",
    "    pred,pred_idx,probs = learn_inf.predict(img)\n",
    "    lbl_pred.value = f'Prediction: {pred}; Probability: {probs[pred_idx]:.04f}'"
   ]
  },
  {
   "cell_type": "code",
   "execution_count": 20,
   "metadata": {
    "id": "tHDJQdDV8Sae"
   },
   "outputs": [],
   "source": [
    "btn_upload.observe(on_click_classify, names=['data'])"
   ]
  },
  {
   "cell_type": "code",
   "execution_count": 23,
   "metadata": {
    "id": "IcQHvKxG8FOF"
   },
   "outputs": [],
   "source": [
    "#hide\n",
    "#Putting back btn_upload to a widget for next cell\n",
    "btn_upload = widgets.FileUpload()\n",
    "btn_run.on_click(on_click_classify)"
   ]
  },
  {
   "cell_type": "code",
   "execution_count": 24,
   "metadata": {
    "colab": {
     "base_uri": "https://localhost:8080/",
     "height": 230,
     "referenced_widgets": [
      "9bf28541512340329c6a683271db2bc1",
      "a98b41f8b62349beb7e294b7073d44d3",
      "e8ebd65a2b854082ae973d91452daaad",
      "bd611eb4cabf42ff8430960d069c04ce",
      "3bdb2dff9aa54e9caef1fa50b94c7574",
      "96ab53f686734ee9844ed79bd219db40",
      "1691cddeff554afa92c3c95db6cf7b6e",
      "5f6bd0b92dd14bb9bae35ab6e4687fd2",
      "c5ee84ad37ab43fabe14dab39d147282",
      "35bde41aa6354c8eb454d0691273c8e5",
      "91ca7ebf0f2d48f3b019e12cbdc628db",
      "ad97ae18088244119b382fa6beae4d0a",
      "4256354f8f87453f80553e1ac4a05c1c",
      "fb4c6b9d3c4e4f3f842e384fc63811e2",
      "b4efb6af3ad94963ac7708b843697ae7",
      "edb913c250a54112b13622d0402a9ea3"
     ]
    },
    "id": "k8cM9_Kw8MWH",
    "outputId": "a01e24b5-ef84-4532-85f0-ab58d40371ee"
   },
   "outputs": [
    {
     "data": {
      "application/vnd.jupyter.widget-view+json": {
       "model_id": "9bf28541512340329c6a683271db2bc1",
       "version_major": 2,
       "version_minor": 0
      },
      "text/plain": [
       "VBox(children=(Label(value='Select your bear!'), FileUpload(value={}, description='Upload'), Button(descriptio…"
      ]
     },
     "metadata": {
      "tags": []
     },
     "output_type": "display_data"
    },
    {
     "data": {
      "text/html": [],
      "text/plain": [
       "<IPython.core.display.HTML object>"
      ]
     },
     "metadata": {
      "tags": []
     },
     "output_type": "display_data"
    }
   ],
   "source": [
    "#hide_output\n",
    "VBox([widgets.Label('Select your bear!'), \n",
    "      btn_upload, btn_run, out_pl, lbl_pred])"
   ]
  },
  {
   "cell_type": "code",
   "execution_count": null,
   "metadata": {
    "id": "nJIP06mm8ONW"
   },
   "outputs": [],
   "source": []
  }
 ],
 "metadata": {
  "colab": {
   "name": "Voila Bear App",
   "provenance": []
  },
  "kernelspec": {
   "display_name": "Python 3",
   "language": "python",
   "name": "python3"
  },
  "language_info": {
   "codemirror_mode": {
    "name": "ipython",
    "version": 3
   },
   "file_extension": ".py",
   "mimetype": "text/x-python",
   "name": "python",
   "nbconvert_exporter": "python",
   "pygments_lexer": "ipython3",
   "version": "3.5.2"
  },
  "widgets": {
   "application/vnd.jupyter.widget-state+json": {
    "1691cddeff554afa92c3c95db6cf7b6e": {
     "model_module": "@jupyter-widgets/controls",
     "model_name": "LabelModel",
     "state": {
      "_dom_classes": [],
      "_model_module": "@jupyter-widgets/controls",
      "_model_module_version": "1.5.0",
      "_model_name": "LabelModel",
      "_view_count": null,
      "_view_module": "@jupyter-widgets/controls",
      "_view_module_version": "1.5.0",
      "_view_name": "LabelView",
      "description": "",
      "description_tooltip": null,
      "layout": "IPY_MODEL_b4efb6af3ad94963ac7708b843697ae7",
      "placeholder": "​",
      "style": "IPY_MODEL_fb4c6b9d3c4e4f3f842e384fc63811e2",
      "value": "Prediction: grizzly; Probability: 0.8499"
     }
    },
    "35bde41aa6354c8eb454d0691273c8e5": {
     "model_module": "@jupyter-widgets/controls",
     "model_name": "ButtonStyleModel",
     "state": {
      "_model_module": "@jupyter-widgets/controls",
      "_model_module_version": "1.5.0",
      "_model_name": "ButtonStyleModel",
      "_view_count": null,
      "_view_module": "@jupyter-widgets/base",
      "_view_module_version": "1.2.0",
      "_view_name": "StyleView",
      "button_color": null,
      "font_weight": ""
     }
    },
    "3bdb2dff9aa54e9caef1fa50b94c7574": {
     "model_module": "@jupyter-widgets/controls",
     "model_name": "ButtonModel",
     "state": {
      "_dom_classes": [],
      "_model_module": "@jupyter-widgets/controls",
      "_model_module_version": "1.5.0",
      "_model_name": "ButtonModel",
      "_view_count": null,
      "_view_module": "@jupyter-widgets/controls",
      "_view_module_version": "1.5.0",
      "_view_name": "ButtonView",
      "button_style": "",
      "description": "Classify",
      "disabled": false,
      "icon": "",
      "layout": "IPY_MODEL_4256354f8f87453f80553e1ac4a05c1c",
      "style": "IPY_MODEL_ad97ae18088244119b382fa6beae4d0a",
      "tooltip": ""
     }
    },
    "4256354f8f87453f80553e1ac4a05c1c": {
     "model_module": "@jupyter-widgets/base",
     "model_name": "LayoutModel",
     "state": {
      "_model_module": "@jupyter-widgets/base",
      "_model_module_version": "1.2.0",
      "_model_name": "LayoutModel",
      "_view_count": null,
      "_view_module": "@jupyter-widgets/base",
      "_view_module_version": "1.2.0",
      "_view_name": "LayoutView",
      "align_content": null,
      "align_items": null,
      "align_self": null,
      "border": null,
      "bottom": null,
      "display": null,
      "flex": null,
      "flex_flow": null,
      "grid_area": null,
      "grid_auto_columns": null,
      "grid_auto_flow": null,
      "grid_auto_rows": null,
      "grid_column": null,
      "grid_gap": null,
      "grid_row": null,
      "grid_template_areas": null,
      "grid_template_columns": null,
      "grid_template_rows": null,
      "height": null,
      "justify_content": null,
      "justify_items": null,
      "left": null,
      "margin": null,
      "max_height": null,
      "max_width": null,
      "min_height": null,
      "min_width": null,
      "object_fit": null,
      "object_position": null,
      "order": null,
      "overflow": null,
      "overflow_x": null,
      "overflow_y": null,
      "padding": null,
      "right": null,
      "top": null,
      "visibility": null,
      "width": null
     }
    },
    "5f6bd0b92dd14bb9bae35ab6e4687fd2": {
     "model_module": "@jupyter-widgets/controls",
     "model_name": "DescriptionStyleModel",
     "state": {
      "_model_module": "@jupyter-widgets/controls",
      "_model_module_version": "1.5.0",
      "_model_name": "DescriptionStyleModel",
      "_view_count": null,
      "_view_module": "@jupyter-widgets/base",
      "_view_module_version": "1.2.0",
      "_view_name": "StyleView",
      "description_width": ""
     }
    },
    "91ca7ebf0f2d48f3b019e12cbdc628db": {
     "model_module": "@jupyter-widgets/base",
     "model_name": "LayoutModel",
     "state": {
      "_model_module": "@jupyter-widgets/base",
      "_model_module_version": "1.2.0",
      "_model_name": "LayoutModel",
      "_view_count": null,
      "_view_module": "@jupyter-widgets/base",
      "_view_module_version": "1.2.0",
      "_view_name": "LayoutView",
      "align_content": null,
      "align_items": null,
      "align_self": null,
      "border": null,
      "bottom": null,
      "display": null,
      "flex": null,
      "flex_flow": null,
      "grid_area": null,
      "grid_auto_columns": null,
      "grid_auto_flow": null,
      "grid_auto_rows": null,
      "grid_column": null,
      "grid_gap": null,
      "grid_row": null,
      "grid_template_areas": null,
      "grid_template_columns": null,
      "grid_template_rows": null,
      "height": null,
      "justify_content": null,
      "justify_items": null,
      "left": null,
      "margin": null,
      "max_height": null,
      "max_width": null,
      "min_height": null,
      "min_width": null,
      "object_fit": null,
      "object_position": null,
      "order": null,
      "overflow": null,
      "overflow_x": null,
      "overflow_y": null,
      "padding": null,
      "right": null,
      "top": null,
      "visibility": null,
      "width": null
     }
    },
    "96ab53f686734ee9844ed79bd219db40": {
     "model_module": "@jupyter-widgets/output",
     "model_name": "OutputModel",
     "state": {
      "_dom_classes": [],
      "_model_module": "@jupyter-widgets/output",
      "_model_module_version": "1.0.0",
      "_model_name": "OutputModel",
      "_view_count": null,
      "_view_module": "@jupyter-widgets/output",
      "_view_module_version": "1.0.0",
      "_view_name": "OutputView",
      "layout": "IPY_MODEL_edb913c250a54112b13622d0402a9ea3",
      "msg_id": "",
      "outputs": [
       {
        "image/png": "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\n",
        "metadata": {
         "tags": []
        },
        "output_type": "display_data",
        "text/plain": "<PIL.Image.Image image mode=RGB size=128x85 at 0x7F5E6E5E7860>"
       }
      ]
     }
    },
    "9bf28541512340329c6a683271db2bc1": {
     "model_module": "@jupyter-widgets/controls",
     "model_name": "VBoxModel",
     "state": {
      "_dom_classes": [],
      "_model_module": "@jupyter-widgets/controls",
      "_model_module_version": "1.5.0",
      "_model_name": "VBoxModel",
      "_view_count": null,
      "_view_module": "@jupyter-widgets/controls",
      "_view_module_version": "1.5.0",
      "_view_name": "VBoxView",
      "box_style": "",
      "children": [
       "IPY_MODEL_e8ebd65a2b854082ae973d91452daaad",
       "IPY_MODEL_bd611eb4cabf42ff8430960d069c04ce",
       "IPY_MODEL_3bdb2dff9aa54e9caef1fa50b94c7574",
       "IPY_MODEL_96ab53f686734ee9844ed79bd219db40",
       "IPY_MODEL_1691cddeff554afa92c3c95db6cf7b6e"
      ],
      "layout": "IPY_MODEL_a98b41f8b62349beb7e294b7073d44d3"
     }
    },
    "a98b41f8b62349beb7e294b7073d44d3": {
     "model_module": "@jupyter-widgets/base",
     "model_name": "LayoutModel",
     "state": {
      "_model_module": "@jupyter-widgets/base",
      "_model_module_version": "1.2.0",
      "_model_name": "LayoutModel",
      "_view_count": null,
      "_view_module": "@jupyter-widgets/base",
      "_view_module_version": "1.2.0",
      "_view_name": "LayoutView",
      "align_content": null,
      "align_items": null,
      "align_self": null,
      "border": null,
      "bottom": null,
      "display": null,
      "flex": null,
      "flex_flow": null,
      "grid_area": null,
      "grid_auto_columns": null,
      "grid_auto_flow": null,
      "grid_auto_rows": null,
      "grid_column": null,
      "grid_gap": null,
      "grid_row": null,
      "grid_template_areas": null,
      "grid_template_columns": null,
      "grid_template_rows": null,
      "height": null,
      "justify_content": null,
      "justify_items": null,
      "left": null,
      "margin": null,
      "max_height": null,
      "max_width": null,
      "min_height": null,
      "min_width": null,
      "object_fit": null,
      "object_position": null,
      "order": null,
      "overflow": null,
      "overflow_x": null,
      "overflow_y": null,
      "padding": null,
      "right": null,
      "top": null,
      "visibility": null,
      "width": null
     }
    },
    "ad97ae18088244119b382fa6beae4d0a": {
     "model_module": "@jupyter-widgets/controls",
     "model_name": "ButtonStyleModel",
     "state": {
      "_model_module": "@jupyter-widgets/controls",
      "_model_module_version": "1.5.0",
      "_model_name": "ButtonStyleModel",
      "_view_count": null,
      "_view_module": "@jupyter-widgets/base",
      "_view_module_version": "1.2.0",
      "_view_name": "StyleView",
      "button_color": null,
      "font_weight": ""
     }
    },
    "b4efb6af3ad94963ac7708b843697ae7": {
     "model_module": "@jupyter-widgets/base",
     "model_name": "LayoutModel",
     "state": {
      "_model_module": "@jupyter-widgets/base",
      "_model_module_version": "1.2.0",
      "_model_name": "LayoutModel",
      "_view_count": null,
      "_view_module": "@jupyter-widgets/base",
      "_view_module_version": "1.2.0",
      "_view_name": "LayoutView",
      "align_content": null,
      "align_items": null,
      "align_self": null,
      "border": null,
      "bottom": null,
      "display": null,
      "flex": null,
      "flex_flow": null,
      "grid_area": null,
      "grid_auto_columns": null,
      "grid_auto_flow": null,
      "grid_auto_rows": null,
      "grid_column": null,
      "grid_gap": null,
      "grid_row": null,
      "grid_template_areas": null,
      "grid_template_columns": null,
      "grid_template_rows": null,
      "height": null,
      "justify_content": null,
      "justify_items": null,
      "left": null,
      "margin": null,
      "max_height": null,
      "max_width": null,
      "min_height": null,
      "min_width": null,
      "object_fit": null,
      "object_position": null,
      "order": null,
      "overflow": null,
      "overflow_x": null,
      "overflow_y": null,
      "padding": null,
      "right": null,
      "top": null,
      "visibility": null,
      "width": null
     }
    },
    "bd611eb4cabf42ff8430960d069c04ce": {
     "model_module": "@jupyter-widgets/controls",
     "model_name": "FileUploadModel",
     "state": {
      "_counter": 1,
      "_dom_classes": [],
      "_model_module": "@jupyter-widgets/controls",
      "_model_module_version": "1.5.0",
      "_model_name": "FileUploadModel",
      "_view_count": null,
      "_view_module": "@jupyter-widgets/controls",
      "_view_module_version": "1.5.0",
      "_view_name": "FileUploadView",
      "accept": "",
      "button_style": "",
      "data": [
       null
      ],
      "description": "Upload",
      "description_tooltip": null,
      "disabled": false,
      "error": "",
      "icon": "upload",
      "layout": "IPY_MODEL_91ca7ebf0f2d48f3b019e12cbdc628db",
      "metadata": [
       {
        "lastModified": 1605629187723,
        "name": "download.jpg",
        "size": 6393,
        "type": "image/jpeg"
       }
      ],
      "multiple": false,
      "style": "IPY_MODEL_35bde41aa6354c8eb454d0691273c8e5"
     }
    },
    "c5ee84ad37ab43fabe14dab39d147282": {
     "model_module": "@jupyter-widgets/base",
     "model_name": "LayoutModel",
     "state": {
      "_model_module": "@jupyter-widgets/base",
      "_model_module_version": "1.2.0",
      "_model_name": "LayoutModel",
      "_view_count": null,
      "_view_module": "@jupyter-widgets/base",
      "_view_module_version": "1.2.0",
      "_view_name": "LayoutView",
      "align_content": null,
      "align_items": null,
      "align_self": null,
      "border": null,
      "bottom": null,
      "display": null,
      "flex": null,
      "flex_flow": null,
      "grid_area": null,
      "grid_auto_columns": null,
      "grid_auto_flow": null,
      "grid_auto_rows": null,
      "grid_column": null,
      "grid_gap": null,
      "grid_row": null,
      "grid_template_areas": null,
      "grid_template_columns": null,
      "grid_template_rows": null,
      "height": null,
      "justify_content": null,
      "justify_items": null,
      "left": null,
      "margin": null,
      "max_height": null,
      "max_width": null,
      "min_height": null,
      "min_width": null,
      "object_fit": null,
      "object_position": null,
      "order": null,
      "overflow": null,
      "overflow_x": null,
      "overflow_y": null,
      "padding": null,
      "right": null,
      "top": null,
      "visibility": null,
      "width": null
     }
    },
    "e8ebd65a2b854082ae973d91452daaad": {
     "model_module": "@jupyter-widgets/controls",
     "model_name": "LabelModel",
     "state": {
      "_dom_classes": [],
      "_model_module": "@jupyter-widgets/controls",
      "_model_module_version": "1.5.0",
      "_model_name": "LabelModel",
      "_view_count": null,
      "_view_module": "@jupyter-widgets/controls",
      "_view_module_version": "1.5.0",
      "_view_name": "LabelView",
      "description": "",
      "description_tooltip": null,
      "layout": "IPY_MODEL_c5ee84ad37ab43fabe14dab39d147282",
      "placeholder": "​",
      "style": "IPY_MODEL_5f6bd0b92dd14bb9bae35ab6e4687fd2",
      "value": "Select your bear!"
     }
    },
    "edb913c250a54112b13622d0402a9ea3": {
     "model_module": "@jupyter-widgets/base",
     "model_name": "LayoutModel",
     "state": {
      "_model_module": "@jupyter-widgets/base",
      "_model_module_version": "1.2.0",
      "_model_name": "LayoutModel",
      "_view_count": null,
      "_view_module": "@jupyter-widgets/base",
      "_view_module_version": "1.2.0",
      "_view_name": "LayoutView",
      "align_content": null,
      "align_items": null,
      "align_self": null,
      "border": null,
      "bottom": null,
      "display": null,
      "flex": null,
      "flex_flow": null,
      "grid_area": null,
      "grid_auto_columns": null,
      "grid_auto_flow": null,
      "grid_auto_rows": null,
      "grid_column": null,
      "grid_gap": null,
      "grid_row": null,
      "grid_template_areas": null,
      "grid_template_columns": null,
      "grid_template_rows": null,
      "height": null,
      "justify_content": null,
      "justify_items": null,
      "left": null,
      "margin": null,
      "max_height": null,
      "max_width": null,
      "min_height": null,
      "min_width": null,
      "object_fit": null,
      "object_position": null,
      "order": null,
      "overflow": null,
      "overflow_x": null,
      "overflow_y": null,
      "padding": null,
      "right": null,
      "top": null,
      "visibility": null,
      "width": null
     }
    },
    "fb4c6b9d3c4e4f3f842e384fc63811e2": {
     "model_module": "@jupyter-widgets/controls",
     "model_name": "DescriptionStyleModel",
     "state": {
      "_model_module": "@jupyter-widgets/controls",
      "_model_module_version": "1.5.0",
      "_model_name": "DescriptionStyleModel",
      "_view_count": null,
      "_view_module": "@jupyter-widgets/base",
      "_view_module_version": "1.2.0",
      "_view_name": "StyleView",
      "description_width": ""
     }
    }
   }
  }
 },
 "nbformat": 4,
 "nbformat_minor": 1
}